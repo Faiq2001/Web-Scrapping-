{
 "cells": [
  {
   "cell_type": "code",
   "execution_count": 3,
   "metadata": {},
   "outputs": [],
   "source": [
    "from bs4 import BeautifulSoup\n",
    "import requests\n",
    "import pandas\n",
    "from pandas import Series,DataFrame"
   ]
  },
  {
   "cell_type": "code",
   "execution_count": 4,
   "metadata": {},
   "outputs": [],
   "source": [
    "url='https://www.studentnewsdaily.com/archive/daily-news-article/'"
   ]
  },
  {
   "cell_type": "code",
   "execution_count": 6,
   "metadata": {},
   "outputs": [],
   "source": [
    "result=requests.get(url)\n",
    "soup=BeautifulSoup(result.content,'lxml')"
   ]
  },
  {
   "cell_type": "code",
   "execution_count": 8,
   "metadata": {},
   "outputs": [],
   "source": [
    "content=soup.findAll('section')"
   ]
  },
  {
   "cell_type": "code",
   "execution_count": 13,
   "metadata": {},
   "outputs": [],
   "source": [
    "summary=content[1].find(class_='col-md-10 col-lg-10 col-xl-10')"
   ]
  },
  {
   "cell_type": "code",
   "execution_count": 15,
   "metadata": {},
   "outputs": [],
   "source": [
    "l=summary.findAll('h4')"
   ]
  },
  {
   "cell_type": "code",
   "execution_count": 17,
   "metadata": {},
   "outputs": [
    {
     "name": "stdout",
     "output_type": "stream",
     "text": [
      "[<h4>May 2020</h4>, <h4>April 2020</h4>, <h4>March 2020</h4>, <h4>February 2020</h4>, <h4>January 2020</h4>, <h4>December 2019</h4>, <h4>November 2019</h4>, <h4>October 2019</h4>, <h4>September 2019</h4>, <h4>May 2019</h4>, <h4>April 2019</h4>, <h4>March 2019</h4>, <h4>February 2019</h4>, <h4>January 2019</h4>, <h4>December 2018</h4>, <h4>November 2018</h4>, <h4>October 2018</h4>, <h4>September 2018</h4>, <h4>June 2018</h4>, <h4>May 2018</h4>, <h4>April 2018</h4>, <h4>March 2018</h4>, <h4>February 2018</h4>, <h4>January 2018</h4>, <h4>December 2017</h4>, <h4>November 2017</h4>, <h4>October 2017</h4>, <h4>September 2017</h4>, <h4>May 2017</h4>, <h4>April 2017</h4>, <h4>March 2017</h4>]\n"
     ]
    }
   ],
   "source": [
    "print(l)"
   ]
  },
  {
   "cell_type": "code",
   "execution_count": null,
   "metadata": {},
   "outputs": [],
   "source": []
  }
 ],
 "metadata": {
  "kernelspec": {
   "display_name": "Python 3",
   "language": "python",
   "name": "python3"
  },
  "language_info": {
   "codemirror_mode": {
    "name": "ipython",
    "version": 3
   },
   "file_extension": ".py",
   "mimetype": "text/x-python",
   "name": "python",
   "nbconvert_exporter": "python",
   "pygments_lexer": "ipython3",
   "version": "3.8.3"
  }
 },
 "nbformat": 4,
 "nbformat_minor": 4
}
